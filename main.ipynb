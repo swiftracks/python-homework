{
 "cells": [
  {
   "cell_type": "code",
   "execution_count": 30,
   "metadata": {},
   "outputs": [
    {
     "name": "stdout",
     "output_type": "stream",
     "text": [
      "['Date', 'Profit/Losses'] <---- HEADER\n",
      "Financial Analysis\n",
      "-------------------------\n",
      "Total months: 86\n",
      "Total: $38382578\n",
      "Average Change: $446309.05\n",
      "Greatest increase in profits: Feb-2012 ($1170593)\n",
      "Greatest decrease in profits: Sep-2013 ($-1196225)\n"
     ]
    }
   ],
   "source": [
    "# Import the pathlib and csv library\n",
    "from pathlib import Path\n",
    "import csv\n",
    "\n",
    "\n",
    "csvpath = Path('budget_data.csv')\n",
    "\n",
    "months = []\n",
    "profit_losses = []\n",
    "greatest_increase_amount = 0\n",
    "greatest_decrease_amount = 0\n",
    "\n",
    "greatest_increase_date = \"\"\n",
    "greatest_decrease_date = \"\"\n",
    "\n",
    "line_num = 0\n",
    "\n",
    "# Open the input path as a file object\n",
    "with open(csvpath, 'r') as csvfile:\n",
    "\n",
    "    csvreader = csv.reader(csvfile, delimiter=',')\n",
    "\n",
    "    header = next(csvreader)\n",
    "    line_num += 1\n",
    "    \n",
    "    print(f\"{header} <---- HEADER\")\n",
    "    \n",
    "    previous_pl = int(row[1])\n",
    "\n",
    "    for row in csvreader:\n",
    "        \n",
    "        month = row[0]\n",
    "        pl_amount = int(row[1])\n",
    "        \n",
    "        months.append(month)\n",
    "        profit_losses.append(pl_amount)\n",
    "        \n",
    "        if(pl_amount > previous_pl and pl_amount > greatest_increase_amount):\n",
    "            greatest_increase_amount = pl_amount\n",
    "            greatest_increase_date = month\n",
    "        elif(pl_amount < previous_pl and pl_amount < greatest_decrease_amount):\n",
    "            greatest_decrease_amount = pl_amount\n",
    "            greatest_decrease_date = month\n",
    "            \n",
    "        \n",
    "        previous_pl = pl_amount\n",
    "        \n",
    "        \n",
    "print(\"Financial Analysis\")\n",
    "\n",
    "print(\"-------------------------\")\n",
    "        \n",
    "total_months = len(months)\n",
    "print(f\"Total months: {total_months}\")\n",
    "\n",
    "total_net = sum(profit_losses)\n",
    "print(f\"Total: ${total_net}\")\n",
    "\n",
    "avg = total_net / total_months\n",
    "formatted_avg = \"{:.2f}\".format(avg)\n",
    "print(f\"Average Change: ${formatted_avg}\")\n",
    "\n",
    "print(f\"Greatest increase in profits: {greatest_increase_date} (${greatest_increase_amount})\")\n",
    "print(f\"Greatest decrease in profits: {greatest_decrease_date} (${greatest_decrease_amount})\")"
   ]
  },
  {
   "cell_type": "code",
   "execution_count": null,
   "metadata": {},
   "outputs": [],
   "source": []
  }
 ],
 "metadata": {
  "kernelspec": {
   "display_name": "Python 3",
   "language": "python",
   "name": "python3"
  },
  "language_info": {
   "codemirror_mode": {
    "name": "ipython",
    "version": 3
   },
   "file_extension": ".py",
   "mimetype": "text/x-python",
   "name": "python",
   "nbconvert_exporter": "python",
   "pygments_lexer": "ipython3",
   "version": "3.8.5"
  }
 },
 "nbformat": 4,
 "nbformat_minor": 4
}
